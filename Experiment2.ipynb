{
 "cells": [
  {
   "cell_type": "code",
   "execution_count": 12,
   "id": "63d26265",
   "metadata": {},
   "outputs": [
    {
     "name": "stdout",
     "output_type": "stream",
     "text": [
      "The autoreload extension is already loaded. To reload it, use:\n",
      "  %reload_ext autoreload\n"
     ]
    }
   ],
   "source": [
    "\n",
    "%load_ext autoreload\n",
    "%autoreload 2\n"
   ]
  },
  {
   "cell_type": "code",
   "execution_count": 13,
   "id": "3c485356",
   "metadata": {},
   "outputs": [],
   "source": [
    "#TransferLearning of ATTACK --> \n",
    "# VS From Scratch\n",
    "import torch\n",
    "import torchvision\n",
    "import torchvision.transforms as transforms\n",
    "from utils import *\n",
    "import torch.optim as optim\n",
    "from model.baseline_model import *\n",
    "from trainer import *\n",
    "from torch.utils.tensorboard import SummaryWriter\n",
    "import robustbench\n",
    "#from robustbench.data import load_cifar10\n",
    "from robustbench.utils import load_model, clean_accuracy\n",
    "from finetune_framework import *"
   ]
  },
  {
   "cell_type": "code",
   "execution_count": 14,
   "id": "d510edf3",
   "metadata": {},
   "outputs": [
    {
     "name": "stdout",
     "output_type": "stream",
     "text": [
      "Files already downloaded and verified\n",
      "Files already downloaded and verified\n"
     ]
    }
   ],
   "source": []
  },
  {
   "cell_type": "markdown",
   "id": "96ea736b",
   "metadata": {},
   "source": [
    "# Transfer Learning "
   ]
  },
  {
   "cell_type": "code",
   "execution_count": 15,
   "id": "182996c6",
   "metadata": {},
   "outputs": [
    {
     "name": "stdout",
     "output_type": "stream",
     "text": [
      "PyTorch Version:  1.7.1+cu110\n",
      "Torchvision Version:  0.8.2+cu110\n"
     ]
    }
   ],
   "source": [
    "model_name = \"resnet\"\n",
    "num_classes = 10\n",
    "feature_extract = True"
   ]
  },
  {
   "cell_type": "code",
   "execution_count": 22,
   "id": "e1d24c0c",
   "metadata": {},
   "outputs": [
    {
     "name": "stdout",
     "output_type": "stream",
     "text": [
      "Files already downloaded and verified\n",
      "Files already downloaded and verified\n"
     ]
    }
   ],
   "source": [
    "model_transfer, input_size = initialize_model(model_name, num_classes, feature_extract, use_pretrained=True)\n",
    "train_dataset, val_dataset, train_loader, val_loader = CIFAR10(128, finetune = True, \n",
    "                                                               input_size = input_size, test_batch_size=128)\n",
    "classes = ('plane', 'car', 'bird', 'cat',\n",
    "           'deer', 'dog', 'frog', 'horse', 'ship', 'truck')\n",
    "device = \"cuda\"\n"
   ]
  },
  {
   "cell_type": "code",
   "execution_count": 26,
   "id": "1675b9b5",
   "metadata": {},
   "outputs": [
    {
     "name": "stdout",
     "output_type": "stream",
     "text": [
      "torch.Size([128, 3, 224, 224])\n"
     ]
    }
   ],
   "source": [
    "img, label = next(iter(train_loader))\n",
    "print(img.shape)"
   ]
  },
  {
   "cell_type": "code",
   "execution_count": 30,
   "id": "f5a4723d",
   "metadata": {},
   "outputs": [
    {
     "name": "stdout",
     "output_type": "stream",
     "text": [
      "Params to learn:\n",
      "\t fc.weight\n",
      "\t fc.bias\n"
     ]
    }
   ],
   "source": [
    "model_transfer = model_transfer.to(device)\n",
    "params_to_update = model_transfer.parameters()\n",
    "\n",
    "print(\"Params to learn:\")\n",
    "if feature_extract:\n",
    "    params_to_update = []\n",
    "    for name,param in model_transfer.named_parameters():\n",
    "        if param.requires_grad == True:\n",
    "            params_to_update.append(param)\n",
    "            print(\"\\t\",name)\n",
    "else:\n",
    "    for name,param in model_transfer.named_parameters():\n",
    "        if param.requires_grad == True:\n",
    "            print(\"\\t\",name)\n",
    "\n",
    "# Observe that all parameters are being optimized\n",
    "optimizer_transfer = optim.SGD(params_to_update, lr=0.001, momentum=0.9)"
   ]
  },
  {
   "cell_type": "code",
   "execution_count": 31,
   "id": "d81b931b",
   "metadata": {},
   "outputs": [],
   "source": [
    "from torch.utils.tensorboard import SummaryWriter\n",
    "train_criterion = nn.CrossEntropyLoss()\n",
    "val_criterion = nn.CrossEntropyLoss()\n",
    "PATH = './cifar_resnet_transfer.pth'\n",
    "device = \"cuda\"\n",
    "writer = SummaryWriter(\"Standard_Resnet_Transfer\")\n"
   ]
  },
  {
   "cell_type": "code",
   "execution_count": null,
   "id": "518abc2d",
   "metadata": {},
   "outputs": [
    {
     "name": "stdout",
     "output_type": "stream",
     "text": [
      "Epoch [0/100]\t\n",
      "Epoch [1/100]\t Training Loss: 1.2100739535468314\t lr: 0.001\n",
      "Epoch [1/100]\t Validation Loss: 0.8084070531627799\t lr: 0.001\n",
      "Epoch [1/100]\t\n",
      "Epoch [2/100]\t Training Loss: 1.1801986897083194\t lr: 0.001\n",
      "Epoch [2/100]\t Validation Loss: 0.7922419867938078\t lr: 0.001\n",
      "Epoch [2/100]\t\n",
      "Epoch [3/100]\t Training Loss: 1.1553457841239012\t lr: 0.001\n",
      "Epoch [3/100]\t Validation Loss: 0.7641311536861372\t lr: 0.001\n",
      "Epoch [3/100]\t\n",
      "Epoch [4/100]\t Training Loss: 1.1383826258542287\t lr: 0.001\n",
      "Epoch [4/100]\t Validation Loss: 0.7570775717119628\t lr: 0.001\n",
      "Epoch [4/100]\t\n",
      "Epoch [5/100]\t Training Loss: 1.1390367284455263\t lr: 0.001\n",
      "Epoch [5/100]\t Validation Loss: 0.7355874395823176\t lr: 0.001\n",
      "Epoch [5/100]\t\n",
      "Epoch [6/100]\t Training Loss: 1.1333250161022177\t lr: 0.001\n",
      "Epoch [6/100]\t Validation Loss: 0.7347398509707632\t lr: 0.001\n",
      "Epoch [6/100]\t\n"
     ]
    }
   ],
   "source": [
    "train(model_transfer, train_loader, train_criterion, val_loader, val_criterion, \n",
    "              optimizer_transfer, 100, writer, \n",
    "                 PATH, False, None, device=\"cuda\",\n",
    "                  n_steps_show=1000)"
   ]
  },
  {
   "cell_type": "code",
   "execution_count": 21,
   "id": "9dd00d9b",
   "metadata": {},
   "outputs": [
    {
     "name": "stdout",
     "output_type": "stream",
     "text": [
      "the clean accuracy is \n",
      "Accuracy of the network on the 10000 test images: 46 %\n"
     ]
    }
   ],
   "source": [
    "print(\"the clean accuracy is \")\n",
    "test(val_loader, model_transfer)\n"
   ]
  },
  {
   "cell_type": "code",
   "execution_count": null,
   "id": "12ca1855",
   "metadata": {},
   "outputs": [],
   "source": [
    "pgd_attack_transfer = generate_adv(model_transfer, \"pgd\")\n",
    "fgsm_attack_transfer = generate_adv(model_transfer, \"fgsm\")\n",
    "nifgsm_attack_transfer = generate_adv(model_transfer, \"nifgsm\")\n",
    "vmifgsm_attack_transfer = generate_adv(model_transfer, \"vmifgsm\")\n"
   ]
  },
  {
   "cell_type": "code",
   "execution_count": null,
   "id": "4ac6f349",
   "metadata": {},
   "outputs": [],
   "source": [
    "images, labels = load_dataset(10000, val_loader)"
   ]
  },
  {
   "cell_type": "code",
   "execution_count": null,
   "id": "53702907",
   "metadata": {},
   "outputs": [],
   "source": [
    "print(\"PGD\")\n",
    "adv_images_pgd_adv_t = pgd_attack_transfer(images, labels)\n",
    "acc = clean_accuracy(model_transfer, adv_images_pgd_adv_t, labels)\n",
    "print('[Model loaded]')\n",
    "print('Acc: %2.2f %%'%(acc*100))\n",
    "print(\"adv model\")"
   ]
  },
  {
   "cell_type": "code",
   "execution_count": null,
   "id": "ea041f58",
   "metadata": {},
   "outputs": [],
   "source": [
    "print(\"fgsm\")\n",
    "adv_images_fgsm_adv_t = fgsm_attack_transfer(images, labels)\n",
    "acc = clean_accuracy(model_transfer, adv_images_fgsm_adv_t, labels)\n",
    "print('[Model loaded]')\n",
    "print('Acc: %2.2f %%'%(acc*100))\n",
    "print(\"adv model\")"
   ]
  },
  {
   "cell_type": "code",
   "execution_count": null,
   "id": "bc25f63e",
   "metadata": {},
   "outputs": [],
   "source": [
    "#nifgsm_attack = generate_adv(net, \"nifgsm\")\n",
    "print(\"nifgsm\")\n",
    "adv_images_nifgsm_adv_t = nifgsm_attack_transfer(images, labels)\n",
    "acc = clean_accuracy(model_transfer, adv_images_nifgsm_adv_t, labels)\n",
    "print('[Model loaded]')\n",
    "print('Acc: %2.2f %%'%(acc*100))\n",
    "print(\"adv model\")"
   ]
  },
  {
   "cell_type": "code",
   "execution_count": null,
   "id": "4f3e2ed8",
   "metadata": {},
   "outputs": [],
   "source": [
    "#vmifgsm_attack = generate_adv(net, \"vmifgsm\")\n",
    "print(\"vmifgsm\")\n",
    "adv_images_vmifgsm_adv_t =vmifgsm_attack_transfer(images, labels)\n",
    "acc = clean_accuracy(model_transfer, adv_images_vmifgsm_adv_t, labels)\n",
    "print('[Model loaded]')\n",
    "print('Acc: %2.2f %%'%(acc*100))\n",
    "print(\"adv model\")"
   ]
  },
  {
   "cell_type": "markdown",
   "id": "fce4802c",
   "metadata": {},
   "source": [
    "# Adversarial Training "
   ]
  },
  {
   "cell_type": "code",
   "execution_count": null,
   "id": "b9addb1f",
   "metadata": {},
   "outputs": [],
   "source": [
    "from torch.utils.tensorboard import SummaryWriter\n",
    "import copy\n",
    "net_adv = copy.deepcopy(model_transfer) #am I doing correct? \n",
    "for param in net_adv.parameters():\n",
    "    print(param)"
   ]
  },
  {
   "cell_type": "code",
   "execution_count": null,
   "id": "1f7465c2",
   "metadata": {},
   "outputs": [],
   "source": [
    "params_to_update = net_adv.parameters()\n",
    "\n",
    "print(\"Params to learn:\")\n",
    "if feature_extract:\n",
    "    params_to_update = []\n",
    "    for name,param in net_adv.named_parameters():\n",
    "        if param.requires_grad == True:\n",
    "            params_to_update.append(param)\n",
    "            print(\"\\t\",name)\n",
    "else:\n",
    "    for name,param in model_transfer.named_parameters():\n",
    "        if param.requires_grad == True:\n",
    "            print(\"\\t\",name)\n",
    "\n",
    "# Observe that all parameters are being optimized\n",
    "optimizer_adv = optim.SGD(params_to_update, lr=0.001, momentum=0.9)\n",
    "train_criterion = nn.CrossEntropyLoss()\n",
    "val_criterion = nn.CrossEntropyLoss()\n",
    "\n",
    "PATH = './cifar_trans_resnet_adv_pgd.pth'\n",
    "device = \"cuda\"\n",
    "writer = SummaryWriter(\"Adv_trans_resnet_PGD\")\n",
    "pgd_attack = generate_adv(net_adv, \"pgd\")"
   ]
  },
  {
   "cell_type": "code",
   "execution_count": null,
   "id": "045da609",
   "metadata": {},
   "outputs": [],
   "source": [
    "train(net_adv, train_loader, train_criterion, val_loader, val_criterion, \n",
    "              optimizer_adv, 100, writer, \n",
    "                 PATH, True, pgd_attack, device=\"cuda\",\n",
    "                  n_steps_show=1000)"
   ]
  },
  {
   "cell_type": "markdown",
   "id": "98059ee5",
   "metadata": {},
   "source": [
    "# TODO Compared with from scratch standard training and attacks "
   ]
  },
  {
   "cell_type": "markdown",
   "id": "8ca31be2",
   "metadata": {},
   "source": [
    "# TODO Compared with from scratch adversarial training and attacks "
   ]
  },
  {
   "cell_type": "code",
   "execution_count": null,
   "id": "68661a58",
   "metadata": {},
   "outputs": [],
   "source": []
  }
 ],
 "metadata": {
  "kernelspec": {
   "display_name": "Python 3",
   "language": "python",
   "name": "python3"
  },
  "language_info": {
   "codemirror_mode": {
    "name": "ipython",
    "version": 3
   },
   "file_extension": ".py",
   "mimetype": "text/x-python",
   "name": "python",
   "nbconvert_exporter": "python",
   "pygments_lexer": "ipython3",
   "version": "3.7.12"
  }
 },
 "nbformat": 4,
 "nbformat_minor": 5
}
