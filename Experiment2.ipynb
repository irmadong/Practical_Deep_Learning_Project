{
 "cells": [
  {
   "cell_type": "code",
   "execution_count": 9,
   "id": "63d26265",
   "metadata": {},
   "outputs": [
    {
     "name": "stdout",
     "output_type": "stream",
     "text": [
      "The autoreload extension is already loaded. To reload it, use:\n",
      "  %reload_ext autoreload\n"
     ]
    }
   ],
   "source": [
    "\n",
    "%load_ext autoreload\n",
    "%autoreload 2\n"
   ]
  },
  {
   "cell_type": "code",
   "execution_count": 10,
   "id": "3c485356",
   "metadata": {},
   "outputs": [],
   "source": [
    "#TransferLearning of ATTACK --> \n",
    "# VS From Scratch\n",
    "import torch\n",
    "import torchvision\n",
    "import torchvision.transforms as transforms\n",
    "from utils import *\n",
    "import torch.optim as optim\n",
    "from model.baseline_model import *\n",
    "from trainer import *\n",
    "from torch.utils.tensorboard import SummaryWriter\n",
    "import robustbench\n",
    "#from robustbench.data import load_cifar10\n",
    "from robustbench.utils import load_model, clean_accuracy\n",
    "from finetune_framework import *"
   ]
  },
  {
   "cell_type": "code",
   "execution_count": null,
   "id": "d510edf3",
   "metadata": {},
   "outputs": [],
   "source": []
  },
  {
   "cell_type": "markdown",
   "id": "96ea736b",
   "metadata": {},
   "source": [
    "# Transfer Learning "
   ]
  },
  {
   "cell_type": "code",
   "execution_count": 11,
   "id": "182996c6",
   "metadata": {},
   "outputs": [],
   "source": [
    "model_name = \"resnet\"\n",
    "num_classes = 10\n",
    "feature_extract = True\n",
    "\n",
    "model_transfer, input_size = initialize_model(model_name, num_classes, feature_extract, use_pretrained=True)\n",
    "train_dataset, val_dataset, train_loader, val_loader = CIFAR10(128, finetune = True, \n",
    "                                                               input_size = input_size, test_batch_size=128)\n",
    "classes = ('plane', 'car', 'bird', 'cat',\n",
    "           'deer', 'dog', 'frog', 'horse', 'ship', 'truck')\n",
    "device = \"cuda\"\n"
   ]
  },
  {
   "cell_type": "code",
   "execution_count": 14,
   "id": "f5a4723d",
   "metadata": {},
   "outputs": [
    {
     "name": "stdout",
     "output_type": "stream",
     "text": [
      "Params to learn:\n",
      "\t fc.weight\n",
      "\t fc.bias\n"
     ]
    }
   ],
   "source": [
    "model_transfer = model_transfer.to(device)\n",
    "params_to_update = model_transfer.parameters()\n",
    "\n",
    "print(\"Params to learn:\")\n",
    "if feature_extract:\n",
    "    params_to_update = []\n",
    "    for name,param in model_transfer.named_parameters():\n",
    "        if param.requires_grad == True:\n",
    "            params_to_update.append(param)\n",
    "            print(\"\\t\",name)\n",
    "else:\n",
    "    for name,param in model_transfer.named_parameters():\n",
    "        if param.requires_grad == True:\n",
    "            print(\"\\t\",name)\n",
    "\n",
    "# Observe that all parameters are being optimized\n",
    "optimizer_transfer = optim.SGD(params_to_update, lr=0.001, momentum=0.9)"
   ]
  },
  {
   "cell_type": "code",
   "execution_count": 15,
   "id": "d81b931b",
   "metadata": {},
   "outputs": [],
   "source": [
    "\n",
    "train_criterion = nn.CrossEntropyLoss()\n",
    "val_criterion = nn.CrossEntropyLoss()\n",
    "PATH = './cifar_resnet_transfer.pth'\n",
    "device = \"cuda\"\n",
    "from torch.utils.tensorboard import SummaryWriter\n",
    "writer = SummaryWriter(\"Standard_Resnet_Transfer\")\n"
   ]
  },
  {
   "cell_type": "code",
   "execution_count": 16,
   "id": "518abc2d",
   "metadata": {
    "scrolled": false
   },
   "outputs": [
    {
     "name": "stdout",
     "output_type": "stream",
     "text": [
      "Epoch [0/100]\t\n",
      "Epoch [1/100]\t Training Loss: 1.622923265332761\t lr: 0.001\n",
      "Epoch [1/100]\t Validation Loss: 1.016049538232103\t lr: 0.001\n",
      "Epoch [1/100]\t\n",
      "Epoch [2/100]\t Training Loss: 1.2821733296069953\t lr: 0.001\n",
      "Epoch [2/100]\t Validation Loss: 0.8903538313093065\t lr: 0.001\n",
      "Epoch [2/100]\t\n",
      "Epoch [3/100]\t Training Loss: 1.2087412950632823\t lr: 0.001\n",
      "Epoch [3/100]\t Validation Loss: 0.8157536327084408\t lr: 0.001\n",
      "Epoch [3/100]\t\n",
      "Epoch [4/100]\t Training Loss: 1.1865175960923704\t lr: 0.001\n",
      "Epoch [4/100]\t Validation Loss: 0.7940273511258862\t lr: 0.001\n",
      "Epoch [4/100]\t\n",
      "Epoch [5/100]\t Training Loss: 1.160145839157007\t lr: 0.001\n",
      "Epoch [5/100]\t Validation Loss: 0.7766734731348255\t lr: 0.001\n",
      "Epoch [5/100]\t\n",
      "Epoch [6/100]\t Training Loss: 1.1493591211945808\t lr: 0.001\n",
      "Epoch [6/100]\t Validation Loss: 0.7457914835290064\t lr: 0.001\n",
      "Epoch [6/100]\t\n",
      "Epoch [7/100]\t Training Loss: 1.1355881354083186\t lr: 0.001\n",
      "Epoch [7/100]\t Validation Loss: 0.7560576457011549\t lr: 0.001\n",
      "Epoch [7/100]\t\n",
      "Epoch [8/100]\t Training Loss: 1.1325865037301008\t lr: 0.001\n",
      "Epoch [8/100]\t Validation Loss: 0.7377292989175531\t lr: 0.001\n",
      "Epoch [8/100]\t\n",
      "Epoch [9/100]\t Training Loss: 1.1190330441040761\t lr: 0.001\n",
      "Epoch [9/100]\t Validation Loss: 0.7223901262011709\t lr: 0.001\n",
      "Epoch [9/100]\t\n",
      "Epoch [10/100]\t Training Loss: 1.1199022976638715\t lr: 0.001\n",
      "Epoch [10/100]\t Validation Loss: 0.7241153030455867\t lr: 0.001\n",
      "Epoch [10/100]\t\n",
      "Epoch [11/100]\t Training Loss: 1.1169374917474244\t lr: 0.001\n",
      "Epoch [11/100]\t Validation Loss: 0.7212192144574998\t lr: 0.001\n",
      "Epoch [11/100]\t\n",
      "Epoch [12/100]\t Training Loss: 1.1133364658526448\t lr: 0.001\n",
      "Epoch [12/100]\t Validation Loss: 0.7121374146847785\t lr: 0.001\n",
      "Epoch [12/100]\t\n",
      "Epoch [13/100]\t Training Loss: 1.1022886566798706\t lr: 0.001\n",
      "Epoch [13/100]\t Validation Loss: 0.7128251130822338\t lr: 0.001\n",
      "Epoch [13/100]\t\n",
      "Epoch [14/100]\t Training Loss: 1.103596357585829\t lr: 0.001\n",
      "Epoch [14/100]\t Validation Loss: 0.716115995298458\t lr: 0.001\n",
      "Epoch [14/100]\t\n",
      "Epoch [15/100]\t Training Loss: 1.1015752015821159\t lr: 0.001\n",
      "Epoch [15/100]\t Validation Loss: 0.7007855920097495\t lr: 0.001\n",
      "Epoch [15/100]\t\n",
      "Epoch [16/100]\t Training Loss: 1.1026863204243849\t lr: 0.001\n",
      "Epoch [16/100]\t Validation Loss: 0.7052237904524501\t lr: 0.001\n",
      "Epoch [16/100]\t\n",
      "Epoch [17/100]\t Training Loss: 1.1028552442560415\t lr: 0.001\n",
      "Epoch [17/100]\t Validation Loss: 0.6951897966710827\t lr: 0.001\n",
      "Epoch [17/100]\t\n",
      "Epoch [18/100]\t Training Loss: 1.0984462063635707\t lr: 0.001\n",
      "Epoch [18/100]\t Validation Loss: 0.6998143780835068\t lr: 0.001\n",
      "Epoch [18/100]\t\n",
      "Epoch [19/100]\t Training Loss: 1.0963797093657277\t lr: 0.001\n",
      "Epoch [19/100]\t Validation Loss: 0.7011861469172225\t lr: 0.001\n",
      "Epoch [19/100]\t\n",
      "Epoch [20/100]\t Training Loss: 1.0868178256942183\t lr: 0.001\n",
      "Epoch [20/100]\t Validation Loss: 0.6987433705148818\t lr: 0.001\n",
      "Epoch [20/100]\t\n",
      "Epoch [21/100]\t Training Loss: 1.0975911098977793\t lr: 0.001\n",
      "Epoch [21/100]\t Validation Loss: 0.6954520691799212\t lr: 0.001\n",
      "Epoch [21/100]\t\n",
      "Epoch [22/100]\t Training Loss: 1.0930701561291198\t lr: 0.001\n",
      "Epoch [22/100]\t Validation Loss: 0.693937348414071\t lr: 0.001\n",
      "Epoch [22/100]\t\n",
      "Epoch [23/100]\t Training Loss: 1.0990235900025234\t lr: 0.001\n",
      "Epoch [23/100]\t Validation Loss: 0.6883918295932722\t lr: 0.001\n",
      "Epoch [23/100]\t\n",
      "Epoch [24/100]\t Training Loss: 1.0850269384396352\t lr: 0.001\n",
      "Epoch [24/100]\t Validation Loss: 0.6852648733537409\t lr: 0.001\n",
      "Epoch [24/100]\t\n",
      "Epoch [25/100]\t Training Loss: 1.0969954764141756\t lr: 0.001\n",
      "Epoch [25/100]\t Validation Loss: 0.6958233834821966\t lr: 0.001\n",
      "Epoch [25/100]\t\n",
      "Epoch [26/100]\t Training Loss: 1.0812515749041076\t lr: 0.001\n",
      "Epoch [26/100]\t Validation Loss: 0.6938848835003527\t lr: 0.001\n",
      "Epoch [26/100]\t\n",
      "Epoch [27/100]\t Training Loss: 1.0874636475082553\t lr: 0.001\n",
      "Epoch [27/100]\t Validation Loss: 0.6869569564167457\t lr: 0.001\n",
      "Epoch [27/100]\t\n",
      "Epoch [28/100]\t Training Loss: 1.0846157112084995\t lr: 0.001\n",
      "Epoch [28/100]\t Validation Loss: 0.6915043954607807\t lr: 0.001\n",
      "Epoch [28/100]\t\n",
      "Epoch [29/100]\t Training Loss: 1.0868517078097215\t lr: 0.001\n",
      "Epoch [29/100]\t Validation Loss: 0.6877711724631393\t lr: 0.001\n",
      "Epoch [29/100]\t\n",
      "Epoch [30/100]\t Training Loss: 1.0928094353517304\t lr: 0.001\n",
      "Epoch [30/100]\t Validation Loss: 0.6780037170724024\t lr: 0.001\n",
      "Epoch [30/100]\t\n",
      "Epoch [31/100]\t Training Loss: 1.0752176090579508\t lr: 0.001\n",
      "Epoch [31/100]\t Validation Loss: 0.6871395971201644\t lr: 0.001\n",
      "Epoch [31/100]\t\n",
      "Epoch [32/100]\t Training Loss: 1.0800513468130166\t lr: 0.001\n",
      "Epoch [32/100]\t Validation Loss: 0.6823462017729313\t lr: 0.001\n",
      "Epoch [32/100]\t\n",
      "Epoch [33/100]\t Training Loss: 1.0788467479178974\t lr: 0.001\n",
      "Epoch [33/100]\t Validation Loss: 0.6777481006670601\t lr: 0.001\n",
      "Epoch [33/100]\t\n",
      "Epoch [34/100]\t Training Loss: 1.0795447873642376\t lr: 0.001\n",
      "Epoch [34/100]\t Validation Loss: 0.6763885696477527\t lr: 0.001\n",
      "Epoch [34/100]\t\n",
      "Epoch [35/100]\t Training Loss: 1.0776309331359766\t lr: 0.001\n",
      "Epoch [35/100]\t Validation Loss: 0.6784239215186879\t lr: 0.001\n",
      "Epoch [35/100]\t\n",
      "Epoch [36/100]\t Training Loss: 1.0778517902964522\t lr: 0.001\n",
      "Epoch [36/100]\t Validation Loss: 0.6801758687707442\t lr: 0.001\n",
      "Epoch [36/100]\t\n",
      "Epoch [37/100]\t Training Loss: 1.075451460793195\t lr: 0.001\n",
      "Epoch [37/100]\t Validation Loss: 0.6853338193289841\t lr: 0.001\n",
      "Epoch [37/100]\t\n",
      "Epoch [38/100]\t Training Loss: 1.0772785968182947\t lr: 0.001\n",
      "Epoch [38/100]\t Validation Loss: 0.682391998888571\t lr: 0.001\n",
      "Epoch [38/100]\t\n",
      "Epoch [39/100]\t Training Loss: 1.076337944058811\t lr: 0.001\n",
      "Epoch [39/100]\t Validation Loss: 0.678938209633284\t lr: 0.001\n",
      "Epoch [39/100]\t\n",
      "Epoch [40/100]\t Training Loss: 1.0824034933543876\t lr: 0.001\n",
      "Epoch [40/100]\t Validation Loss: 0.6750490820106072\t lr: 0.001\n",
      "Epoch [40/100]\t\n",
      "Epoch [41/100]\t Training Loss: 1.0787047316960972\t lr: 0.001\n",
      "Epoch [41/100]\t Validation Loss: 0.6716400471669209\t lr: 0.001\n",
      "Epoch [41/100]\t\n",
      "Epoch [42/100]\t Training Loss: 1.079272310752088\t lr: 0.001\n",
      "Epoch [42/100]\t Validation Loss: 0.6698686088187785\t lr: 0.001\n",
      "Epoch [42/100]\t\n",
      "Epoch [43/100]\t Training Loss: 1.0769961567790918\t lr: 0.001\n",
      "Epoch [43/100]\t Validation Loss: 0.6797276248660269\t lr: 0.001\n",
      "Epoch [43/100]\t\n",
      "Epoch [44/100]\t Training Loss: 1.0744366609227016\t lr: 0.001\n",
      "Epoch [44/100]\t Validation Loss: 0.6747289782837976\t lr: 0.001\n",
      "Epoch [44/100]\t\n",
      "Epoch [45/100]\t Training Loss: 1.078402924263264\t lr: 0.001\n",
      "Epoch [45/100]\t Validation Loss: 0.6650077300735667\t lr: 0.001\n",
      "Epoch [45/100]\t\n",
      "Epoch [46/100]\t Training Loss: 1.0762285145042498\t lr: 0.001\n",
      "Epoch [46/100]\t Validation Loss: 0.6740955499154103\t lr: 0.001\n",
      "Epoch [46/100]\t\n",
      "Epoch [47/100]\t Training Loss: 1.0741283960659485\t lr: 0.001\n",
      "Epoch [47/100]\t Validation Loss: 0.6775840600080127\t lr: 0.001\n",
      "Epoch [47/100]\t\n",
      "Epoch [48/100]\t Training Loss: 1.0744458029947013\t lr: 0.001\n",
      "Epoch [48/100]\t Validation Loss: 0.6798407767392411\t lr: 0.001\n",
      "Epoch [48/100]\t\n",
      "Epoch [49/100]\t Training Loss: 1.0715181859557892\t lr: 0.001\n",
      "Epoch [49/100]\t Validation Loss: 0.6741323844541477\t lr: 0.001\n",
      "Epoch [49/100]\t\n",
      "Epoch [50/100]\t Training Loss: 1.0692313607696378\t lr: 0.001\n",
      "Epoch [50/100]\t Validation Loss: 0.6818696381170538\t lr: 0.001\n",
      "Epoch [50/100]\t\n",
      "Epoch [51/100]\t Training Loss: 1.0765376286128598\t lr: 0.001\n",
      "Epoch [51/100]\t Validation Loss: 0.6844658572462541\t lr: 0.001\n",
      "Epoch [51/100]\t\n",
      "Epoch [52/100]\t Training Loss: 1.0756175498218488\t lr: 0.001\n",
      "Epoch [52/100]\t Validation Loss: 0.672498964056184\t lr: 0.001\n",
      "Epoch [52/100]\t\n",
      "Epoch [53/100]\t Training Loss: 1.0695754474081347\t lr: 0.001\n",
      "Epoch [53/100]\t Validation Loss: 0.6692331467248216\t lr: 0.001\n",
      "Epoch [53/100]\t\n",
      "Epoch [54/100]\t Training Loss: 1.0739050710292728\t lr: 0.001\n",
      "Epoch [54/100]\t Validation Loss: 0.6693779539458359\t lr: 0.001\n",
      "Epoch [54/100]\t\n",
      "Epoch [55/100]\t Training Loss: 1.0713146005750007\t lr: 0.001\n",
      "Epoch [55/100]\t Validation Loss: 0.670630215466777\t lr: 0.001\n",
      "Epoch [55/100]\t\n",
      "Epoch [56/100]\t Training Loss: 1.069210018343328\t lr: 0.001\n",
      "Epoch [56/100]\t Validation Loss: 0.6767728340022171\t lr: 0.001\n",
      "Epoch [56/100]\t\n",
      "Epoch [57/100]\t Training Loss: 1.0752918301031107\t lr: 0.001\n",
      "Epoch [57/100]\t Validation Loss: 0.6735721396494515\t lr: 0.001\n",
      "Epoch [57/100]\t\n",
      "Epoch [58/100]\t Training Loss: 1.07335931520023\t lr: 0.001\n",
      "Epoch [58/100]\t Validation Loss: 0.6683753585513634\t lr: 0.001\n",
      "Epoch [58/100]\t\n",
      "Epoch [59/100]\t Training Loss: 1.0716026189077237\t lr: 0.001\n",
      "Epoch [59/100]\t Validation Loss: 0.6633655598646477\t lr: 0.001\n",
      "Epoch [59/100]\t\n"
     ]
    },
    {
     "name": "stdout",
     "output_type": "stream",
     "text": [
      "Epoch [60/100]\t Training Loss: 1.0713834283906785\t lr: 0.001\n",
      "Epoch [60/100]\t Validation Loss: 0.670941551840758\t lr: 0.001\n",
      "Epoch [60/100]\t\n",
      "Epoch [61/100]\t Training Loss: 1.0721073746681213\t lr: 0.001\n",
      "Epoch [61/100]\t Validation Loss: 0.6775827098496353\t lr: 0.001\n",
      "Epoch [61/100]\t\n",
      "Epoch [62/100]\t Training Loss: 1.0693825722655372\t lr: 0.001\n",
      "Epoch [62/100]\t Validation Loss: 0.6710811781732342\t lr: 0.001\n",
      "Epoch [62/100]\t\n",
      "Epoch [63/100]\t Training Loss: 1.0652119034086651\t lr: 0.001\n",
      "Epoch [63/100]\t Validation Loss: 0.6665111863160436\t lr: 0.001\n",
      "Epoch [63/100]\t\n",
      "Epoch [64/100]\t Training Loss: 1.072257290563315\t lr: 0.001\n",
      "Epoch [64/100]\t Validation Loss: 0.6737492978572845\t lr: 0.001\n",
      "Epoch [64/100]\t\n",
      "Epoch [65/100]\t Training Loss: 1.069849419776741\t lr: 0.001\n",
      "Epoch [65/100]\t Validation Loss: 0.6781094926822034\t lr: 0.001\n",
      "Epoch [65/100]\t\n",
      "Epoch [66/100]\t Training Loss: 1.0693810559294719\t lr: 0.001\n",
      "Epoch [66/100]\t Validation Loss: 0.6657425632959679\t lr: 0.001\n",
      "Epoch [66/100]\t\n",
      "Epoch [67/100]\t Training Loss: 1.076466757928014\t lr: 0.001\n",
      "Epoch [67/100]\t Validation Loss: 0.6654594699038735\t lr: 0.001\n",
      "Epoch [67/100]\t\n",
      "Epoch [68/100]\t Training Loss: 1.071283082370563\t lr: 0.001\n",
      "Epoch [68/100]\t Validation Loss: 0.6693501498880265\t lr: 0.001\n",
      "Epoch [68/100]\t\n",
      "Epoch [69/100]\t Training Loss: 1.070858218785747\t lr: 0.001\n",
      "Epoch [69/100]\t Validation Loss: 0.6678662711306463\t lr: 0.001\n",
      "Epoch [69/100]\t\n",
      "Epoch [70/100]\t Training Loss: 1.066633768856068\t lr: 0.001\n",
      "Epoch [70/100]\t Validation Loss: 0.6892005884194676\t lr: 0.001\n",
      "Epoch [70/100]\t\n",
      "Epoch [71/100]\t Training Loss: 1.0643099390942117\t lr: 0.001\n",
      "Epoch [71/100]\t Validation Loss: 0.6699352592607087\t lr: 0.001\n",
      "Epoch [71/100]\t\n",
      "Epoch [72/100]\t Training Loss: 1.0636832319257203\t lr: 0.001\n",
      "Epoch [72/100]\t Validation Loss: 0.6745284222349336\t lr: 0.001\n",
      "Epoch [72/100]\t\n",
      "Epoch [73/100]\t Training Loss: 1.0652599449047957\t lr: 0.001\n",
      "Epoch [73/100]\t Validation Loss: 0.6707492297208761\t lr: 0.001\n",
      "Epoch [73/100]\t\n",
      "Epoch [74/100]\t Training Loss: 1.0685578285885589\t lr: 0.001\n",
      "Epoch [74/100]\t Validation Loss: 0.6740537134906913\t lr: 0.001\n",
      "Epoch [74/100]\t\n",
      "Epoch [75/100]\t Training Loss: 1.0725406310747347\t lr: 0.001\n",
      "Epoch [75/100]\t Validation Loss: 0.6674945188474052\t lr: 0.001\n",
      "Epoch [75/100]\t\n",
      "Epoch [76/100]\t Training Loss: 1.0740459204634742\t lr: 0.001\n",
      "Epoch [76/100]\t Validation Loss: 0.6650150301335733\t lr: 0.001\n",
      "Epoch [76/100]\t\n",
      "Epoch [77/100]\t Training Loss: 1.0624885641400466\t lr: 0.001\n",
      "Epoch [77/100]\t Validation Loss: 0.6806156495703927\t lr: 0.001\n",
      "Epoch [77/100]\t\n",
      "Epoch [78/100]\t Training Loss: 1.0618578024837366\t lr: 0.001\n",
      "Epoch [78/100]\t Validation Loss: 0.6783634865585761\t lr: 0.001\n",
      "Epoch [78/100]\t\n",
      "Epoch [79/100]\t Training Loss: 1.0641194133807326\t lr: 0.001\n",
      "Epoch [79/100]\t Validation Loss: 0.6721599079385588\t lr: 0.001\n",
      "Epoch [79/100]\t\n",
      "Epoch [80/100]\t Training Loss: 1.0702673433077\t lr: 0.001\n",
      "Epoch [80/100]\t Validation Loss: 0.6690773209439048\t lr: 0.001\n",
      "Epoch [80/100]\t\n",
      "Epoch [81/100]\t Training Loss: 1.0686004235006659\t lr: 0.001\n",
      "Epoch [81/100]\t Validation Loss: 0.6638198057307473\t lr: 0.001\n",
      "Epoch [81/100]\t\n",
      "Epoch [82/100]\t Training Loss: 1.0671064278963582\t lr: 0.001\n",
      "Epoch [82/100]\t Validation Loss: 0.6612319689762743\t lr: 0.001\n",
      "Epoch [82/100]\t\n",
      "Epoch [83/100]\t Training Loss: 1.067226752753148\t lr: 0.001\n",
      "Epoch [83/100]\t Validation Loss: 0.670010714591304\t lr: 0.001\n",
      "Epoch [83/100]\t\n",
      "Epoch [84/100]\t Training Loss: 1.0676261400017897\t lr: 0.001\n",
      "Epoch [84/100]\t Validation Loss: 0.668003537986852\t lr: 0.001\n",
      "Epoch [84/100]\t\n",
      "Epoch [85/100]\t Training Loss: 1.065135978981662\t lr: 0.001\n",
      "Epoch [85/100]\t Validation Loss: 0.6692505965504465\t lr: 0.001\n",
      "Epoch [85/100]\t\n",
      "Epoch [86/100]\t Training Loss: 1.0652154976754542\t lr: 0.001\n",
      "Epoch [86/100]\t Validation Loss: 0.6664452130281473\t lr: 0.001\n",
      "Epoch [86/100]\t\n",
      "Epoch [87/100]\t Training Loss: 1.0598398291546365\t lr: 0.001\n",
      "Epoch [87/100]\t Validation Loss: 0.6663936218128929\t lr: 0.001\n",
      "Epoch [87/100]\t\n",
      "Epoch [88/100]\t Training Loss: 1.0616219996491356\t lr: 0.001\n",
      "Epoch [88/100]\t Validation Loss: 0.6626869575886787\t lr: 0.001\n",
      "Epoch [88/100]\t\n",
      "Epoch [89/100]\t Training Loss: 1.0652279991018192\t lr: 0.001\n",
      "Epoch [89/100]\t Validation Loss: 0.6742490737498561\t lr: 0.001\n",
      "Epoch [89/100]\t\n",
      "Epoch [90/100]\t Training Loss: 1.0653407218511148\t lr: 0.001\n",
      "Epoch [90/100]\t Validation Loss: 0.6682446881940093\t lr: 0.001\n",
      "Epoch [90/100]\t\n",
      "Epoch [91/100]\t Training Loss: 1.0636559101321814\t lr: 0.001\n",
      "Epoch [91/100]\t Validation Loss: 0.6610650095758559\t lr: 0.001\n",
      "Epoch [91/100]\t\n",
      "Epoch [92/100]\t Training Loss: 1.0694965183582452\t lr: 0.001\n",
      "Epoch [92/100]\t Validation Loss: 0.6640079926840866\t lr: 0.001\n",
      "Epoch [92/100]\t\n",
      "Epoch [93/100]\t Training Loss: 1.06639158969645\t lr: 0.001\n",
      "Epoch [93/100]\t Validation Loss: 0.6678338835511026\t lr: 0.001\n",
      "Epoch [93/100]\t\n",
      "Epoch [94/100]\t Training Loss: 1.0605552533398503\t lr: 0.001\n",
      "Epoch [94/100]\t Validation Loss: 0.6549999676173246\t lr: 0.001\n",
      "Epoch [94/100]\t\n",
      "Epoch [95/100]\t Training Loss: 1.0639499348142873\t lr: 0.001\n",
      "Epoch [95/100]\t Validation Loss: 0.660865140489385\t lr: 0.001\n",
      "Epoch [95/100]\t\n",
      "Epoch [96/100]\t Training Loss: 1.0690355134742033\t lr: 0.001\n",
      "Epoch [96/100]\t Validation Loss: 0.6662557773952242\t lr: 0.001\n",
      "Epoch [96/100]\t\n",
      "Epoch [97/100]\t Training Loss: 1.0690957472452423\t lr: 0.001\n",
      "Epoch [97/100]\t Validation Loss: 0.6732630918297586\t lr: 0.001\n",
      "Epoch [97/100]\t\n",
      "Epoch [98/100]\t Training Loss: 1.0651669833056456\t lr: 0.001\n",
      "Epoch [98/100]\t Validation Loss: 0.6689324869385248\t lr: 0.001\n",
      "Epoch [98/100]\t\n",
      "Epoch [99/100]\t Training Loss: 1.066927230571542\t lr: 0.001\n",
      "Epoch [99/100]\t Validation Loss: 0.6640245691884922\t lr: 0.001\n",
      "Epoch [99/100]\t\n",
      "Epoch [100/100]\t Training Loss: 1.0702078136641655\t lr: 0.001\n",
      "Epoch [100/100]\t Validation Loss: 0.6618489683428898\t lr: 0.001\n",
      "Epoch [99/100]\t Time Taken: 207.7498573978742 minutes\n"
     ]
    }
   ],
   "source": [
    "train(model_transfer, train_loader, train_criterion, val_loader, val_criterion, \n",
    "              optimizer_transfer, 100, writer, \n",
    "                 PATH, False, None, device=\"cuda\",\n",
    "                  n_steps_show=1000)"
   ]
  },
  {
   "cell_type": "code",
   "execution_count": 17,
   "id": "9dd00d9b",
   "metadata": {},
   "outputs": [
    {
     "name": "stdout",
     "output_type": "stream",
     "text": [
      "the clean accuracy is \n",
      "Accuracy of the network on the 10000 test images: 78 %\n"
     ]
    }
   ],
   "source": [
    "print(\"the clean accuracy is \")\n",
    "test(val_loader, model_transfer)\n"
   ]
  },
  {
   "cell_type": "code",
   "execution_count": 62,
   "id": "12ca1855",
   "metadata": {},
   "outputs": [],
   "source": [
    "# pgd_attack_transfer = generate_adv(model_transfer_load, \"pgd\")\n",
    "# fgsm_attack_transfer = generate_adv(model_transfer_load, \"fgsm\")\n",
    "# nifgsm_attack_transfer = generate_adv(model_transfer_load, \"nifgsm\")\n",
    "# vmifgsm_attack_transfer = generate_adv(model_transfer_load, \"vmifgsm\")\n"
   ]
  },
  {
   "cell_type": "code",
   "execution_count": 63,
   "id": "4ac6f349",
   "metadata": {},
   "outputs": [],
   "source": [
    "# images, labels = load_dataset(10000, val_loader)\n"
   ]
  },
  {
   "cell_type": "code",
   "execution_count": 28,
   "id": "bb867a09",
   "metadata": {},
   "outputs": [],
   "source": [
    "# images = images.to(device)\n",
    "# labels = labels.to(device)\n",
    "# model_transfer = model_transfer.to(device)"
   ]
  },
  {
   "cell_type": "code",
   "execution_count": null,
   "id": "335ab5b1",
   "metadata": {},
   "outputs": [],
   "source": [
    "print(\"PGD\")\n",
    "pgd_attack_transfer = generate_adv(model_transfer, \"pgd\")\n",
    "# pgd_attack_transfer = pgd_attack_transfer.cpu()\n",
    "\n",
    "pgd_acc = test_attack(val_loader, pgd_attack_transfer, model_transfer, \"cuda\")"
   ]
  },
  {
   "cell_type": "code",
   "execution_count": null,
   "id": "d0153121",
   "metadata": {},
   "outputs": [],
   "source": [
    "print(\"fgsm\")\n",
    "fgsm_attack_transfer = generate_adv(model_transfer, \"fgsm\")\n",
    "# pgd_attack_transfer = pgd_attack_transfer.cpu()\n",
    "\n",
    "fgsm_acc = test_attack(val_loader, fgsm_attack_transfer, model_transfer, \"cuda\")"
   ]
  },
  {
   "cell_type": "code",
   "execution_count": null,
   "id": "414692d6",
   "metadata": {},
   "outputs": [],
   "source": [
    "print(\"nifgsm\")\n",
    "nifgsm_attack_transfer = generate_adv(model_transfer, \"nifgsm\")\n",
    "# pgd_attack_transfer = pgd_attack_transfer.cpu()\n",
    "\n",
    "nifgsm_acc = test_attack(val_loader, nifgsm_attack_transfer, model_transfer, \"cuda\")"
   ]
  },
  {
   "cell_type": "code",
   "execution_count": null,
   "id": "c750e194",
   "metadata": {},
   "outputs": [],
   "source": [
    "print(\"vmifgsm\")\n",
    "vmifgsm_attack_transfer = generate_adv(model_transfer, \"vmifgsm\")\n",
    "# pgd_attack_transfer = pgd_attack_transfer.cpu()\n",
    "\n",
    "vmifgsm_acc = test_attack(val_loader, vmifgsm_attack_transfer, model_transfer, \"cuda\")"
   ]
  },
  {
   "cell_type": "code",
   "execution_count": 64,
   "id": "53702907",
   "metadata": {},
   "outputs": [
    {
     "name": "stdout",
     "output_type": "stream",
     "text": [
      "PGD\n"
     ]
    },
    {
     "ename": "RuntimeError",
     "evalue": "CUDA out of memory. Tried to allocate 5.61 GiB (GPU 0; 14.56 GiB total capacity; 5.82 GiB already allocated; 709.50 MiB free; 5.84 GiB reserved in total by PyTorch)",
     "output_type": "error",
     "traceback": [
      "\u001b[0;31m---------------------------------------------------------------------------\u001b[0m",
      "\u001b[0;31mRuntimeError\u001b[0m                              Traceback (most recent call last)",
      "\u001b[0;32m/tmp/ipykernel_19309/132445468.py\u001b[0m in \u001b[0;36m<module>\u001b[0;34m\u001b[0m\n\u001b[1;32m      2\u001b[0m \u001b[0mpgd_attack_transfer\u001b[0m \u001b[0;34m=\u001b[0m \u001b[0mgenerate_adv\u001b[0m\u001b[0;34m(\u001b[0m\u001b[0mmodel_transfer\u001b[0m\u001b[0;34m,\u001b[0m \u001b[0;34m\"pgd\"\u001b[0m\u001b[0;34m)\u001b[0m\u001b[0;34m\u001b[0m\u001b[0;34m\u001b[0m\u001b[0m\n\u001b[1;32m      3\u001b[0m \u001b[0;31m# pgd_attack_transfer = pgd_attack_transfer.cpu()\u001b[0m\u001b[0;34m\u001b[0m\u001b[0;34m\u001b[0m\u001b[0;34m\u001b[0m\u001b[0m\n\u001b[0;32m----> 4\u001b[0;31m \u001b[0madv_images_pgd_adv_t\u001b[0m \u001b[0;34m=\u001b[0m \u001b[0mpgd_attack_transfer\u001b[0m\u001b[0;34m(\u001b[0m\u001b[0mimages\u001b[0m\u001b[0;34m,\u001b[0m \u001b[0mlabels\u001b[0m\u001b[0;34m)\u001b[0m\u001b[0;34m\u001b[0m\u001b[0;34m\u001b[0m\u001b[0m\n\u001b[0m\u001b[1;32m      5\u001b[0m \u001b[0macc\u001b[0m \u001b[0;34m=\u001b[0m \u001b[0mclean_accuracy\u001b[0m\u001b[0;34m(\u001b[0m\u001b[0mmodel_transfer\u001b[0m\u001b[0;34m,\u001b[0m \u001b[0madv_images_pgd_adv_t\u001b[0m\u001b[0;34m,\u001b[0m \u001b[0mlabels\u001b[0m\u001b[0;34m)\u001b[0m\u001b[0;34m\u001b[0m\u001b[0;34m\u001b[0m\u001b[0m\n\u001b[1;32m      6\u001b[0m \u001b[0mprint\u001b[0m\u001b[0;34m(\u001b[0m\u001b[0;34m'[Model loaded]'\u001b[0m\u001b[0;34m)\u001b[0m\u001b[0;34m\u001b[0m\u001b[0;34m\u001b[0m\u001b[0m\n",
      "\u001b[0;32m/opt/conda/lib/python3.7/site-packages/torchattacks/attack.py\u001b[0m in \u001b[0;36m__call__\u001b[0;34m(self, inputs, labels, *args, **kwargs)\u001b[0m\n\u001b[1;32m    427\u001b[0m             \u001b[0mself\u001b[0m\u001b[0;34m.\u001b[0m\u001b[0m_set_normalization_applied\u001b[0m\u001b[0;34m(\u001b[0m\u001b[0;32mTrue\u001b[0m\u001b[0;34m)\u001b[0m\u001b[0;34m\u001b[0m\u001b[0;34m\u001b[0m\u001b[0m\n\u001b[1;32m    428\u001b[0m         \u001b[0;32melse\u001b[0m\u001b[0;34m:\u001b[0m\u001b[0;34m\u001b[0m\u001b[0;34m\u001b[0m\u001b[0m\n\u001b[0;32m--> 429\u001b[0;31m             \u001b[0madv_inputs\u001b[0m \u001b[0;34m=\u001b[0m \u001b[0mself\u001b[0m\u001b[0;34m.\u001b[0m\u001b[0mforward\u001b[0m\u001b[0;34m(\u001b[0m\u001b[0minputs\u001b[0m\u001b[0;34m,\u001b[0m \u001b[0mlabels\u001b[0m\u001b[0;34m,\u001b[0m \u001b[0;34m*\u001b[0m\u001b[0margs\u001b[0m\u001b[0;34m,\u001b[0m \u001b[0;34m**\u001b[0m\u001b[0mkwargs\u001b[0m\u001b[0;34m)\u001b[0m\u001b[0;34m\u001b[0m\u001b[0;34m\u001b[0m\u001b[0m\n\u001b[0m\u001b[1;32m    430\u001b[0m             \u001b[0madv_inputs\u001b[0m \u001b[0;34m=\u001b[0m \u001b[0mself\u001b[0m\u001b[0;34m.\u001b[0m\u001b[0mto_type\u001b[0m\u001b[0;34m(\u001b[0m\u001b[0madv_inputs\u001b[0m\u001b[0;34m,\u001b[0m \u001b[0mself\u001b[0m\u001b[0;34m.\u001b[0m\u001b[0mreturn_type\u001b[0m\u001b[0;34m)\u001b[0m\u001b[0;34m\u001b[0m\u001b[0;34m\u001b[0m\u001b[0m\n\u001b[1;32m    431\u001b[0m \u001b[0;34m\u001b[0m\u001b[0m\n",
      "\u001b[0;32m/opt/conda/lib/python3.7/site-packages/torchattacks/attacks/pgd.py\u001b[0m in \u001b[0;36mforward\u001b[0;34m(self, images, labels)\u001b[0m\n\u001b[1;32m     50\u001b[0m         \u001b[0mloss\u001b[0m \u001b[0;34m=\u001b[0m \u001b[0mnn\u001b[0m\u001b[0;34m.\u001b[0m\u001b[0mCrossEntropyLoss\u001b[0m\u001b[0;34m(\u001b[0m\u001b[0;34m)\u001b[0m\u001b[0;34m\u001b[0m\u001b[0;34m\u001b[0m\u001b[0m\n\u001b[1;32m     51\u001b[0m \u001b[0;34m\u001b[0m\u001b[0m\n\u001b[0;32m---> 52\u001b[0;31m         \u001b[0madv_images\u001b[0m \u001b[0;34m=\u001b[0m \u001b[0mimages\u001b[0m\u001b[0;34m.\u001b[0m\u001b[0mclone\u001b[0m\u001b[0;34m(\u001b[0m\u001b[0;34m)\u001b[0m\u001b[0;34m.\u001b[0m\u001b[0mdetach\u001b[0m\u001b[0;34m(\u001b[0m\u001b[0;34m)\u001b[0m\u001b[0;34m\u001b[0m\u001b[0;34m\u001b[0m\u001b[0m\n\u001b[0m\u001b[1;32m     53\u001b[0m \u001b[0;34m\u001b[0m\u001b[0m\n\u001b[1;32m     54\u001b[0m         \u001b[0;32mif\u001b[0m \u001b[0mself\u001b[0m\u001b[0;34m.\u001b[0m\u001b[0mrandom_start\u001b[0m\u001b[0;34m:\u001b[0m\u001b[0;34m\u001b[0m\u001b[0;34m\u001b[0m\u001b[0m\n",
      "\u001b[0;31mRuntimeError\u001b[0m: CUDA out of memory. Tried to allocate 5.61 GiB (GPU 0; 14.56 GiB total capacity; 5.82 GiB already allocated; 709.50 MiB free; 5.84 GiB reserved in total by PyTorch)"
     ]
    }
   ],
   "source": [
    "# print(\"PGD\")\n",
    "# pgd_attack_transfer = generate_adv(model_transfer, \"pgd\")\n",
    "# # pgd_attack_transfer = pgd_attack_transfer.cpu()\n",
    "# adv_images_pgd_adv_t = pgd_attack_transfer(images, labels)\n",
    "# acc = clean_accuracy(model_transfer, adv_images_pgd_adv_t, labels)\n",
    "# print('[Model loaded]')\n",
    "# print('Acc: %2.2f %%'%(acc*100))\n",
    "# print(\"adv model\")"
   ]
  },
  {
   "cell_type": "code",
   "execution_count": null,
   "id": "ea041f58",
   "metadata": {},
   "outputs": [],
   "source": [
    "# print(\"fgsm\")\n",
    "# adv_images_fgsm_adv_t = fgsm_attack_transfer(images, labels)\n",
    "# acc = clean_accuracy(model_transfer, adv_images_fgsm_adv_t, labels)\n",
    "# print('[Model loaded]')\n",
    "# print('Acc: %2.2f %%'%(acc*100))\n",
    "# print(\"adv model\")"
   ]
  },
  {
   "cell_type": "code",
   "execution_count": null,
   "id": "bc25f63e",
   "metadata": {},
   "outputs": [],
   "source": [
    "#  "
   ]
  },
  {
   "cell_type": "code",
   "execution_count": null,
   "id": "4f3e2ed8",
   "metadata": {},
   "outputs": [],
   "source": [
    "# #vmifgsm_attack = generate_adv(net, \"vmifgsm\")\n",
    "# print(\"vmifgsm\")\n",
    "# adv_images_vmifgsm_adv_t =vmifgsm_attack_transfer(images, labels)\n",
    "# acc = clean_accuracy(model_transfer, adv_images_vmifgsm_adv_t, labels)\n",
    "# print('[Model loaded]')\n",
    "# print('Acc: %2.2f %%'%(acc*100))\n",
    "# print(\"adv model\")"
   ]
  },
  {
   "cell_type": "markdown",
   "id": "fce4802c",
   "metadata": {},
   "source": [
    "# Adversarial Training "
   ]
  },
  {
   "cell_type": "code",
   "execution_count": null,
   "id": "b9addb1f",
   "metadata": {},
   "outputs": [],
   "source": [
    "from torch.utils.tensorboard import SummaryWriter\n",
    "import copy\n",
    "net_adv = copy.deepcopy(model_transfer) #am I doing correct? \n",
    "for param in net_adv.parameters():\n",
    "    print(param)"
   ]
  },
  {
   "cell_type": "code",
   "execution_count": null,
   "id": "1f7465c2",
   "metadata": {},
   "outputs": [],
   "source": [
    "params_to_update = net_adv.parameters()\n",
    "\n",
    "print(\"Params to learn:\")\n",
    "if feature_extract:\n",
    "    params_to_update = []\n",
    "    for name,param in net_adv.named_parameters():\n",
    "        if param.requires_grad == True:\n",
    "            params_to_update.append(param)\n",
    "            print(\"\\t\",name)\n",
    "else:\n",
    "    for name,param in model_transfer.named_parameters():\n",
    "        if param.requires_grad == True:\n",
    "            print(\"\\t\",name)\n",
    "\n",
    "# Observe that all parameters are being optimized\n",
    "optimizer_adv = optim.SGD(params_to_update, lr=0.001, momentum=0.9)\n",
    "train_criterion = nn.CrossEntropyLoss()\n",
    "val_criterion = nn.CrossEntropyLoss()\n",
    "\n",
    "PATH = './cifar_trans_resnet_adv_pgd.pth'\n",
    "device = \"cuda\"\n",
    "writer = SummaryWriter(\"Adv_trans_resnet_PGD\")\n",
    "pgd_attack = generate_adv(net_adv, \"pgd\")"
   ]
  },
  {
   "cell_type": "code",
   "execution_count": null,
   "id": "045da609",
   "metadata": {},
   "outputs": [],
   "source": [
    "train(net_adv, train_loader, train_criterion, val_loader, val_criterion, \n",
    "              optimizer_adv, 100, writer, \n",
    "                 PATH, True, pgd_attack, device=\"cuda\",\n",
    "                  n_steps_show=1000)"
   ]
  },
  {
   "cell_type": "code",
   "execution_count": null,
   "id": "80ab71fb",
   "metadata": {},
   "outputs": [],
   "source": []
  },
  {
   "cell_type": "code",
   "execution_count": null,
   "id": "c85c6b87",
   "metadata": {},
   "outputs": [],
   "source": []
  },
  {
   "cell_type": "code",
   "execution_count": null,
   "id": "d8e7b3a0",
   "metadata": {},
   "outputs": [],
   "source": []
  },
  {
   "cell_type": "code",
   "execution_count": null,
   "id": "a39b1aca",
   "metadata": {},
   "outputs": [],
   "source": []
  },
  {
   "cell_type": "markdown",
   "id": "98059ee5",
   "metadata": {},
   "source": [
    "# TODO Compared with from scratch standard training and attacks "
   ]
  },
  {
   "cell_type": "code",
   "execution_count": null,
   "id": "17d035d7",
   "metadata": {},
   "outputs": [],
   "source": [
    "model_name = \"resnet\"\n",
    "num_classes = 10\n",
    "feature_extract = False\n",
    "\n",
    "model_scratch, input_size = initialize_model(model_name, num_classes, feature_extract, use_pretrained=False)\n",
    "train_dataset, val_dataset, train_loader, val_loader = CIFAR10(128, finetune = True, \n",
    "                                                               input_size = input_size, test_batch_size=128)\n",
    "classes = ('plane', 'car', 'bird', 'cat',\n",
    "           'deer', 'dog', 'frog', 'horse', 'ship', 'truck')\n",
    "device = \"cuda\""
   ]
  },
  {
   "cell_type": "code",
   "execution_count": null,
   "id": "10e62cbe",
   "metadata": {},
   "outputs": [],
   "source": [
    "model_scratch = model_scratch.to(device)\n",
    "params_to_update = model_scratch.parameters()\n",
    "\n",
    "print(\"Params to learn:\")\n",
    "if feature_extract:\n",
    "    params_to_update = []\n",
    "    for name,param in model_scratch.named_parameters():\n",
    "        if param.requires_grad == True:\n",
    "            params_to_update.append(param)\n",
    "            print(\"\\t\",name)\n",
    "else:\n",
    "    for name,param in model_scratch.named_parameters():\n",
    "        if param.requires_grad == True:\n",
    "            print(\"\\t\",name)\n",
    "\n",
    "# Observe that all parameters are being optimized\n",
    "optimizer_scratch = optim.SGD(params_to_update, lr=0.001, momentum=0.9)"
   ]
  },
  {
   "cell_type": "code",
   "execution_count": null,
   "id": "d82480b9",
   "metadata": {},
   "outputs": [],
   "source": []
  },
  {
   "cell_type": "code",
   "execution_count": null,
   "id": "b29fcc31",
   "metadata": {},
   "outputs": [],
   "source": []
  },
  {
   "cell_type": "code",
   "execution_count": null,
   "id": "d185a27b",
   "metadata": {},
   "outputs": [],
   "source": []
  },
  {
   "cell_type": "markdown",
   "id": "8ca31be2",
   "metadata": {},
   "source": [
    "# TODO Compared with from scratch adversarial training and attacks "
   ]
  },
  {
   "cell_type": "code",
   "execution_count": null,
   "id": "68661a58",
   "metadata": {},
   "outputs": [],
   "source": []
  }
 ],
 "metadata": {
  "kernelspec": {
   "display_name": "Python 3",
   "language": "python",
   "name": "python3"
  },
  "language_info": {
   "codemirror_mode": {
    "name": "ipython",
    "version": 3
   },
   "file_extension": ".py",
   "mimetype": "text/x-python",
   "name": "python",
   "nbconvert_exporter": "python",
   "pygments_lexer": "ipython3",
   "version": "3.7.12"
  }
 },
 "nbformat": 4,
 "nbformat_minor": 5
}
