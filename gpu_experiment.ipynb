{
 "cells": [
  {
   "cell_type": "code",
   "execution_count": 28,
   "id": "55dac066",
   "metadata": {},
   "outputs": [
    {
     "name": "stdout",
     "output_type": "stream",
     "text": [
      "The autoreload extension is already loaded. To reload it, use:\n",
      "  %reload_ext autoreload\n"
     ]
    }
   ],
   "source": [
    "\n",
    "%load_ext autoreload\n",
    "%autoreload 2\n"
   ]
  },
  {
   "cell_type": "code",
   "execution_count": 33,
   "id": "8ba0543e",
   "metadata": {},
   "outputs": [],
   "source": [
    "#TransferLearning of ATTACK --> \n",
    "# VS From Scratch\n",
    "import torch\n",
    "import torchvision\n",
    "import torchvision.transforms as transforms\n",
    "from utils import *\n",
    "import torch.optim as optim\n",
    "from model.baseline_model import *\n",
    "from trainer import *\n",
    "from torch.utils.tensorboard import SummaryWriter\n",
    "import robustbench\n",
    "#from robustbench.data import load_cifar10\n",
    "from robustbench.utils import load_model, clean_accuracy\n",
    "from finetune_framework import *"
   ]
  },
  {
   "cell_type": "code",
   "execution_count": 3,
   "id": "b0e5e064",
   "metadata": {},
   "outputs": [],
   "source": [
    "model_name = \"resnet\"\n",
    "num_classes = 10\n",
    "feature_extract = True\n"
   ]
  },
  {
   "cell_type": "code",
   "execution_count": 4,
   "id": "93e84fba",
   "metadata": {},
   "outputs": [
    {
     "name": "stdout",
     "output_type": "stream",
     "text": [
      "Files already downloaded and verified\n",
      "Files already downloaded and verified\n"
     ]
    }
   ],
   "source": [
    "model_transfer, input_size = initialize_model(model_name, num_classes, feature_extract, use_pretrained=True)\n",
    "train_dataset, val_dataset, train_loader, val_loader = CIFAR10(128, finetune = True, \n",
    "                                                               input_size = input_size, test_batch_size=128)\n",
    "classes = ('plane', 'car', 'bird', 'cat',\n",
    "           'deer', 'dog', 'frog', 'horse', 'ship', 'truck')\n",
    "device = \"cuda\"\n"
   ]
  },
  {
   "cell_type": "code",
   "execution_count": 9,
   "id": "fea7c541",
   "metadata": {},
   "outputs": [],
   "source": [
    "\n",
    "train_criterion = nn.CrossEntropyLoss()\n",
    "val_criterion = nn.CrossEntropyLoss()\n",
    "PATH = './cifar_resnet_transfer.pth'\n",
    "device = \"cuda\"\n",
    "from torch.utils.tensorboard import SummaryWriter\n",
    "writer = SummaryWriter(\"Standard_Resnet_Transfer\")\n"
   ]
  },
  {
   "cell_type": "code",
   "execution_count": 10,
   "id": "d822083b",
   "metadata": {},
   "outputs": [],
   "source": [
    "\n",
    "pt_path = \".\"+PATH.split(\".\")[-2] + \".pt\"\n",
    "model_transfer_load =  torch.load(pt_path)"
   ]
  },
  {
   "cell_type": "code",
   "execution_count": 14,
   "id": "11165d07",
   "metadata": {},
   "outputs": [
    {
     "data": {
      "text/plain": [
       "'./cifar_resnet_transfer.pt'"
      ]
     },
     "execution_count": 14,
     "metadata": {},
     "output_type": "execute_result"
    }
   ],
   "source": [
    "pt_path"
   ]
  },
  {
   "cell_type": "code",
   "execution_count": 11,
   "id": "a13c71e4",
   "metadata": {},
   "outputs": [],
   "source": [
    "# images, labels = load_dataset(10000, val_loader)"
   ]
  },
  {
   "cell_type": "code",
   "execution_count": 17,
   "id": "8d6e7f6d",
   "metadata": {},
   "outputs": [
    {
     "name": "stdout",
     "output_type": "stream",
     "text": [
      "PGD\n",
      "[Model loaded]\n",
      "Acc: 0.00 %\n",
      "adv model\n"
     ]
    }
   ],
   "source": [
    "\n",
    "# print(\"PGD\")\n",
    "# pgd_attack_transfer = generate_adv(model_transfer_load, \"pgd\")\n",
    "# # pgd_attack_transfer = pgd_attack_transfer.cpu()\n",
    "\n",
    "# step_counter = 0\n",
    "# acc_counter = 0\n",
    "# for i, (images, labels) in enumerate(val_loader):\n",
    "#     adv_images_pgd_adv_t = pgd_attack_transfer(images, labels)\n",
    "#     adv_images_pgd_adv_t = adv_images_pgd_adv_t.to(device)\n",
    "#     model_transfer_load = model_transfer_load.to(device)\n",
    "#     labels = labels.to(device)\n",
    "#     acc = clean_accuracy(model_transfer_load, adv_images_pgd_adv_t, labels)\n",
    "#     acc_counter  += acc*len(images)\n",
    "    \n",
    "#     step_counter += len(images)\n",
    "    \n",
    "    \n",
    "\n",
    "# # adv_images_pgd_adv_t = pgd_attack_transfer(images, labels)\n",
    "# # acc = clean_accuracy(model_transfer, adv_images_pgd_adv_t, labels)\n",
    "# print('[Model loaded]')\n",
    "# print('Acc: %2.2f %%'%(acc_counter/step_counter*100))\n",
    "# print(\"adv model\")"
   ]
  },
  {
   "cell_type": "code",
   "execution_count": 39,
   "id": "270c24d3",
   "metadata": {},
   "outputs": [
    {
     "name": "stdout",
     "output_type": "stream",
     "text": [
      "PGD\n",
      "[Model loaded]\n",
      "Acc: 0.00 %\n",
      "adv model\n"
     ]
    }
   ],
   "source": [
    "print(\"PGD\")\n",
    "pgd_attack_transfer = generate_adv(model_transfer_load, \"pgd\")\n",
    "# pgd_attack_transfer = pgd_attack_transfer.cpu()\n",
    "\n",
    "pgd_acc = test_attack(val_loader, pgd_attack_transfer, model_transfer_load, \"cuda\")"
   ]
  },
  {
   "cell_type": "code",
   "execution_count": 35,
   "id": "d9a929ac",
   "metadata": {},
   "outputs": [
    {
     "name": "stdout",
     "output_type": "stream",
     "text": [
      "fgsm\n",
      "[Model loaded]\n",
      "Acc: 18.82 %\n",
      "adv model\n"
     ]
    }
   ],
   "source": [
    "\n",
    "print(\"fgsm\")\n",
    "fgsm_attack_transfer = generate_adv(model_transfer_load, \"fgsm\")\n",
    "# pgd_attack_transfer = pgd_attack_transfer.cpu()\n",
    "\n",
    "fgsm_acc = test_attack(val_loader, fgsm_attack_transfer, model_transfer_load, \"cuda\")\n",
    "# step_counter = 0\n",
    "# acc_counter = 0\n",
    "# for i, (images, labels) in enumerate(val_loader):\n",
    "#     adv_images_pgd_adv_t = pgd_attack_transfer(images, labels)\n",
    "#     adv_images_pgd_adv_t = adv_images_pgd_adv_t.to(device)\n",
    "#     model_transfer_load = model_transfer_load.to(device)\n",
    "#     labels = labels.to(device)\n",
    "#     acc = clean_accuracy(model_transfer_load, adv_images_pgd_adv_t, labels)\n",
    "#     acc_counter  += acc\n",
    "    \n",
    "#     step_counter += 1\n",
    "    \n",
    "    \n",
    "\n",
    "# # adv_images_pgd_adv_t = pgd_attack_transfer(images, labels)\n",
    "# # acc = clean_accuracy(model_transfer, adv_images_pgd_adv_t, labels)\n",
    "# print('[Model loaded]')\n",
    "# print('Acc: %2.2f %%'%(acc_counter/step_counter*100))\n",
    "# print(\"adv model\") "
   ]
  },
  {
   "cell_type": "code",
   "execution_count": 37,
   "id": "fc8cd9ab",
   "metadata": {},
   "outputs": [
    {
     "name": "stdout",
     "output_type": "stream",
     "text": [
      "nifgsm\n",
      "[Model loaded]\n",
      "Acc: 1.84 %\n",
      "adv model\n"
     ]
    }
   ],
   "source": [
    "print(\"nifgsm\")\n",
    "nifgsm_attack_transfer = generate_adv(model_transfer_load, \"nifgsm\")\n",
    "# pgd_attack_transfer = pgd_attack_transfer.cpu()\n",
    "\n",
    "nifgsm_acc = test_attack(val_loader, nifgsm_attack_transfer, model_transfer_load, \"cuda\")"
   ]
  },
  {
   "cell_type": "code",
   "execution_count": 38,
   "id": "79bd39d1",
   "metadata": {},
   "outputs": [
    {
     "name": "stdout",
     "output_type": "stream",
     "text": [
      "vmifgsm\n",
      "[Model loaded]\n",
      "Acc: 0.00 %\n",
      "adv model\n"
     ]
    }
   ],
   "source": [
    "print(\"vmifgsm\")\n",
    "vmifgsm_attack_transfer = generate_adv(model_transfer_load, \"vmifgsm\")\n",
    "# pgd_attack_transfer = pgd_attack_transfer.cpu()\n",
    "\n",
    "vmifgsm_acc = test_attack(val_loader, vmifgsm_attack_transfer, model_transfer_load, \"cuda\")"
   ]
  },
  {
   "cell_type": "code",
   "execution_count": null,
   "id": "99513576",
   "metadata": {},
   "outputs": [],
   "source": []
  },
  {
   "cell_type": "code",
   "execution_count": null,
   "id": "9301c1e2",
   "metadata": {},
   "outputs": [],
   "source": []
  },
  {
   "cell_type": "code",
   "execution_count": null,
   "id": "4673b4c0",
   "metadata": {},
   "outputs": [],
   "source": []
  }
 ],
 "metadata": {
  "kernelspec": {
   "display_name": "Python 3",
   "language": "python",
   "name": "python3"
  },
  "language_info": {
   "codemirror_mode": {
    "name": "ipython",
    "version": 3
   },
   "file_extension": ".py",
   "mimetype": "text/x-python",
   "name": "python",
   "nbconvert_exporter": "python",
   "pygments_lexer": "ipython3",
   "version": "3.7.12"
  }
 },
 "nbformat": 4,
 "nbformat_minor": 5
}
